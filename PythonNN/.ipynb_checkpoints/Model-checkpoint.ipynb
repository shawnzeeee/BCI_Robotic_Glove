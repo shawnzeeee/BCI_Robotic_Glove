{
 "cells": [
  {
   "cell_type": "code",
   "execution_count": 17,
   "id": "7276cea1-fcd3-4d7d-9440-faee6e994788",
   "metadata": {},
   "outputs": [],
   "source": [
    "import torch\n",
    "import torch.nn as nn\n",
    "import torch.nn.functional as F\n",
    "from torch.utils.data import DataLoader, TensorDataset\n",
    "import os\n",
    "from pathlib import Path\n",
    "import numpy as np\n"
   ]
  },
  {
   "cell_type": "code",
   "execution_count": 22,
   "id": "9d952838-1b47-4eae-8593-b0cd2c56bd14",
   "metadata": {},
   "outputs": [],
   "source": [
    "def load_and_reshape_all_binaries(folder_path, dtype=np.float32):\n",
    "    all_reshaped = []\n",
    "    folder = Path(folder_path)\n",
    "\n",
    "\n",
    "    for file in folder.glob(\"*.bin\"):\n",
    "        raw = np.fromfile(file, dtype=dtype)\n",
    "\n",
    "        # Trim to nearest multiple of 6\n",
    "        trimmed_size = (raw.size // 6) * 6\n",
    "        trimmed = raw[:trimmed_size]\n",
    "\n",
    "        # Reshape into rows of 6: [Ch1, Ch2, Ch3, Ch4, Class, Timestamp]\n",
    "        reshaped = trimmed.reshape(-1, 6)\n",
    "        all_reshaped.append(reshaped)\n",
    "\n",
    "    if not all_reshaped:\n",
    "        raise ValueError(\"No valid binary EEG files found in the folder.\")\n",
    "\n",
    "    # Concatenate all reshaped arrays\n",
    "    combined_data = np.vstack(all_reshaped)\n",
    "    return combined_data"
   ]
  },
  {
   "cell_type": "code",
   "execution_count": 28,
   "id": "29725aee-1904-4ade-a2a6-1985b45d258a",
   "metadata": {},
   "outputs": [
    {
     "name": "stdout",
     "output_type": "stream",
     "text": [
      "[-6.8618555e+02  9.5058594e+01 -6.8111945e+02 ... -2.5328543e+00\n",
      "  0.0000000e+00  4.5000000e+04]\n",
      "[-1.0913911e+03 -1.0826814e+03 -1.0826213e+03 ...  6.4372597e+00\n",
      "  0.0000000e+00  4.5000000e+04]\n"
     ]
    }
   ],
   "source": [
    "folder_path = \"EEG_Recordings/Daniel/3minIndexOpenClose_BP2\"\n",
    "raw_data = load_and_reshape_all_binaries(folder_path)\n",
    "classification_indices = np.where((raw_data[:,4] >= 1) & (raw_data[:,4] <= 10))[0]"
   ]
  },
  {
   "cell_type": "code",
   "execution_count": 29,
   "id": "d5d1a940-330f-40c3-a15a-4e29f8d6a155",
   "metadata": {},
   "outputs": [
    {
     "name": "stdout",
     "output_type": "stream",
     "text": [
      "(90000, 6)\n",
      "(53237,)\n"
     ]
    }
   ],
   "source": [
    "print(raw_data.shape)\n",
    "print(classification_indices.shape)"
   ]
  },
  {
   "cell_type": "markdown",
   "id": "f3ab962d-db0e-4c3d-8c02-1d2e80b2417c",
   "metadata": {},
   "source": [
    "# Model"
   ]
  },
  {
   "cell_type": "code",
   "execution_count": null,
   "id": "0c9d343f-fa78-4a25-8270-209a57ba4bc6",
   "metadata": {},
   "outputs": [],
   "source": [
    "# Define the MLP model\n",
    "class EEGClassifier(nn.Module):\n",
    "    def __init__(self):\n",
    "        super(EEGClassifier, self).__init__()\n",
    "        self.fc1 = nn.Linear(20, 32)       # Input: 20 features → Hidden: 32 neurons\n",
    "        self.fc2 = nn.Linear(32, 13)       # Hidden: 32 neurons → Output: 13 classes\n",
    "\n",
    "    def forward(self, x):\n",
    "        x = F.relu(self.fc1(x))            # Activation\n",
    "        x = F.softmax(self.fc2(x), dim=1)  # Softmax for classification\n",
    "        return x\n",
    "\n",
    "# Instantiate the model\n",
    "model = EEGClassifier()\n",
    "\n",
    "# Optimizer and loss\n",
    "optimizer = torch.optim.Adam(model.parameters(), lr=0.001)\n",
    "criterion = nn.CrossEntropyLoss()\n",
    "\n"
   ]
  }
 ],
 "metadata": {
  "kernelspec": {
   "display_name": "Python 3 (ipykernel)",
   "language": "python",
   "name": "python3"
  },
  "language_info": {
   "codemirror_mode": {
    "name": "ipython",
    "version": 3
   },
   "file_extension": ".py",
   "mimetype": "text/x-python",
   "name": "python",
   "nbconvert_exporter": "python",
   "pygments_lexer": "ipython3",
   "version": "3.11.2"
  }
 },
 "nbformat": 4,
 "nbformat_minor": 5
}
