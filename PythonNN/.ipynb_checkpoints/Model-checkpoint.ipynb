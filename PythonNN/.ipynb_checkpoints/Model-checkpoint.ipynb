{
 "cells": [
  {
   "cell_type": "code",
   "execution_count": 93,
   "id": "7276cea1-fcd3-4d7d-9440-faee6e994788",
   "metadata": {
    "tags": []
   },
   "outputs": [],
   "source": [
    "import torch\n",
    "import torch.nn as nn\n",
    "import torch.nn.functional as F\n",
    "from torch.utils.data import Dataset, DataLoader, TensorDataset\n",
    "import os\n",
    "from pathlib import Path\n",
    "import numpy as np\n",
    "import pandas as pd\n",
    "from scipy.signal import welch\n",
    "from scipy.stats import kurtosis, skew\n",
    "\n",
    "from sklearn.metrics import accuracy_score, confusion_matrix, classification_report\n",
    "import numpy as np\n",
    "import matplotlib.pyplot as plt\n",
    "\n",
    "from sklearn.cross_decomposition import CCA\n",
    "\n",
    "\n",
    "from tqdm import tqdm, trange\n",
    "\n",
    "import warnings\n",
    "from sklearn.exceptions import ConvergenceWarning\n",
    "\n",
    "from PyEMD import EMD\n",
    "\n",
    "import antropy as ant\n",
    "import random\n"
   ]
  },
  {
   "cell_type": "code",
   "execution_count": 86,
   "id": "2816cffe-f3f1-4eb5-bd73-39069a4dc8f2",
   "metadata": {
    "tags": []
   },
   "outputs": [],
   "source": [
    "torch.cuda.empty_cache()\n",
    "\n",
    "\n"
   ]
  },
  {
   "cell_type": "code",
   "execution_count": 114,
   "id": "59e19e47-53b0-4ab1-a9e6-621300da36f0",
   "metadata": {
    "tags": []
   },
   "outputs": [],
   "source": [
    "from scipy.signal import welch\n",
    "import numpy as np\n",
    "\n",
    "def compute_bandpower(data, fs, band):\n",
    "    freqs, psd = welch(data, fs=fs, nperseg=fs//2)\n",
    "    idx_band = np.logical_and(freqs >= band[0], freqs <= band[1])\n",
    "    return np.trapz(psd[idx_band], freqs[idx_band])\n",
    "\n",
    "def compute_rms(x):\n",
    "    return np.sqrt(np.mean(np.square(x)))\n",
    "\n",
    "def compute_hjorth_params(x):\n",
    "    first_deriv = np.diff(x)\n",
    "    second_deriv = np.diff(first_deriv)\n",
    "\n",
    "    var_zero = np.var(x)\n",
    "    var_d1 = np.var(first_deriv)\n",
    "    var_d2 = np.var(second_deriv)\n",
    "\n",
    "    mobility = np.sqrt(var_d1 / var_zero) if var_zero != 0 else 0\n",
    "    complexity = np.sqrt(var_d2 / var_d1) if var_d1 != 0 else 0\n",
    "\n",
    "    return mobility, complexity"
   ]
  },
  {
   "cell_type": "code",
   "execution_count": 115,
   "id": "9d952838-1b47-4eae-8593-b0cd2c56bd14",
   "metadata": {
    "tags": []
   },
   "outputs": [],
   "source": [
    "def normalize_signal(signal):\n",
    "    max_abs = np.max(np.abs(signal))\n",
    "    return signal / max_abs if max_abs != 0 else signal\n",
    "\n",
    "class EEGWindowDataset(Dataset):\n",
    "    def __init__(self, combined_data_path, training_data_path, sampling_rate=250, window_sec=2):\n",
    "        self.combined_data = pd.read_csv(combined_data_path).values.astype(np.float32)\n",
    "        self.training_data = pd.read_csv(training_data_path).values.astype(np.int64)\n",
    "\n",
    "        self.window_size = int(window_sec * sampling_rate)\n",
    "        self.half_window = self.window_size // 2\n",
    "\n",
    "        self.total_rows = self.combined_data.shape[0]\n",
    "        self.sampling_rate = sampling_rate\n",
    "\n",
    "    def __len__(self):\n",
    "        return len(self.training_data)\n",
    "\n",
    "    def __getitem__(self, idx):\n",
    "        class_label, center_idx = self.training_data[idx]\n",
    "\n",
    "        # Define full 2-second window\n",
    "        max_shift = int(0.5 * self.sampling_rate)  # 125 if sampling_rate = 250\n",
    "        random_shift = random.randint(-max_shift, max_shift)\n",
    "        \n",
    "        center_idx += random_shift\n",
    "        \n",
    "        start_idx = center_idx - self.half_window\n",
    "        end_idx = center_idx + self.half_window\n",
    "\n",
    "        # Edge padding if needed\n",
    "        if start_idx < 0 or end_idx > self.total_rows:\n",
    "            window = np.zeros((self.window_size, 4), dtype=np.float32)\n",
    "            actual_start = max(0, start_idx)\n",
    "            actual_end = min(self.total_rows, end_idx)\n",
    "            window_offset_start = max(0, -start_idx)\n",
    "            window[window_offset_start:window_offset_start + (actual_end - actual_start)] = \\\n",
    "                self.combined_data[actual_start:actual_end, :4]\n",
    "        else:\n",
    "            window = self.combined_data[start_idx:end_idx, :4]\n",
    "\n",
    "        # Split window into 4 segments (0.5s each @ 250 Hz = 125 samples)\n",
    "        segment_size = self.window_size // 4  # 0.5 seconds = 125 samples\n",
    "        features_per_segment = []\n",
    "        \n",
    "        #max_abs = np.max(np.abs(window))\n",
    "        #window = window / max_abs if max_abs != 0 else window\n",
    "\n",
    "        for i in range(4):  # 4 segments\n",
    "            segment = window[i * segment_size: (i + 1) * segment_size, :]\n",
    "            segment_features = []\n",
    "\n",
    "            for ch in range(4):  # 4 channels\n",
    "                signal = segment[:, ch]\n",
    "\n",
    "                alpha = compute_bandpower(signal, fs=self.sampling_rate, band=(8, 13))\n",
    "                beta = compute_bandpower(signal, fs=self.sampling_rate, band=(13, 30))\n",
    "                rms = compute_rms(signal)\n",
    "                mobility, complexity = compute_hjorth_params(signal)\n",
    "                #skewness = skew(signal)\n",
    "                #sampen = ant.sample_entropy(signal, order=2, metric='chebyshev')\n",
    "                #kurt = kurtosis(signal, fisher=True, bias=False)\n",
    "                \n",
    "\n",
    "                segment_features.extend([alpha, beta, mobility, rms, complexity])\n",
    "\n",
    "            features_per_segment.append(segment_features)  # shape: (20,)\n",
    "\n",
    "        feature_tensor = torch.tensor(features_per_segment, dtype=torch.float32)  # shape: (4, 20)\n",
    "        return feature_tensor, class_label"
   ]
  },
  {
   "cell_type": "markdown",
   "id": "f3ab962d-db0e-4c3d-8c02-1d2e80b2417c",
   "metadata": {},
   "source": [
    "# Model"
   ]
  },
  {
   "cell_type": "code",
   "execution_count": 116,
   "id": "0c9d343f-fa78-4a25-8270-209a57ba4bc6",
   "metadata": {
    "tags": []
   },
   "outputs": [],
   "source": [
    "class EEG_BiLSTMClassifier(nn.Module):\n",
    "    def __init__(self, input_size=32, hidden_size=32, num_layers=2, num_classes=11, dropout=0.3):\n",
    "        super(EEG_BiLSTMClassifier, self).__init__()\n",
    "\n",
    "        self.lstm = nn.LSTM(\n",
    "            input_size=input_size,\n",
    "            hidden_size=hidden_size,\n",
    "            num_layers=num_layers,\n",
    "            batch_first=True,\n",
    "            dropout=dropout,\n",
    "            bidirectional=True  # ✅ BiLSTM enabled\n",
    "        )\n",
    "\n",
    "        # Note: hidden_size is doubled because it's bidirectional\n",
    "        self.fc = nn.Sequential(\n",
    "            nn.Linear(hidden_size * 2, 32),  # ✅ multiply by 2\n",
    "            nn.ReLU(),\n",
    "            nn.Dropout(dropout),\n",
    "            nn.Linear(32, num_classes)\n",
    "        )\n",
    "\n",
    "    def forward(self, x):\n",
    "        # x: (batch_size, time_steps, features)\n",
    "        lstm_out, _ = self.lstm(x)  # shape: (batch, time_steps, hidden_size * 2)\n",
    "\n",
    "        # Take output from last time step\n",
    "        last_output = lstm_out[:, -1, :]  # shape: (batch, hidden_size * 2)\n",
    "\n",
    "        out = self.fc(last_output)  # shape: (batch, num_classes)\n",
    "        return out\n"
   ]
  },
  {
   "cell_type": "code",
   "execution_count": 117,
   "id": "a30a0624-8cec-42af-93d1-bde3fbfcc935",
   "metadata": {
    "tags": []
   },
   "outputs": [],
   "source": [
    "class EEG_LSTMClassifier(nn.Module):\n",
    "    def __init__(self, input_size=20, hidden_size=32, num_layers=2, num_classes=11, dropout=0.3):\n",
    "        super(EEG_LSTMClassifier, self).__init__()\n",
    "\n",
    "        self.lstm = nn.LSTM(\n",
    "            input_size=input_size,\n",
    "            hidden_size=hidden_size,\n",
    "            num_layers=num_layers,\n",
    "            batch_first=True,\n",
    "            dropout=dropout\n",
    "        )\n",
    "        \n",
    "        self.fc = nn.Sequential(\n",
    "            nn.Linear(hidden_size, 32),\n",
    "            nn.ReLU(),\n",
    "            nn.Dropout(dropout),\n",
    "            nn.Linear(32, num_classes)\n",
    "        )\n",
    "\n",
    "    def forward(self, x):\n",
    "        # x: (batch_size, time_steps, features)\n",
    "        lstm_out, _ = self.lstm(x)  # lstm_out: (batch, time_steps, hidden_size)\n",
    "        \n",
    "        # Take the output from the last time step\n",
    "        last_output = lstm_out[:, -1, :]  # shape: (batch_size, hidden_size)\n",
    "\n",
    "        out = self.fc(last_output)  # shape: (batch_size, num_classes)\n",
    "        return out"
   ]
  },
  {
   "cell_type": "code",
   "execution_count": 118,
   "id": "ffd52e25-0aca-4ccc-80c5-74f65ea833b3",
   "metadata": {
    "tags": []
   },
   "outputs": [],
   "source": [
    "def train_model(model, train_loader, val_loader, optimizer, criterion, num_epochs=30, device='cuda'):\n",
    "    model.to(device)\n",
    "    count = 0\n",
    "    epoch_bar = trange(num_epochs, desc=\"Training Epochs\", unit=\"epoch\")\n",
    "    \n",
    "    for epoch in epoch_bar:\n",
    "        # -------- Training Phase --------\n",
    "        model.train()\n",
    "        total_loss = 0\n",
    "        \n",
    "        for batch_X, batch_y in train_loader:\n",
    "            batch_X, batch_y = batch_X.to(device), batch_y.to(device)\n",
    "\n",
    "            optimizer.zero_grad()\n",
    "            outputs = model(batch_X)\n",
    "\n",
    "            # Compute individual losses\n",
    "            criterion = nn.CrossEntropyLoss(reduction='none')\n",
    "            losses = criterion(outputs, batch_y)  # shape: (batch_size,)\n",
    "\n",
    "            loss = losses.mean()\n",
    "            loss.backward()\n",
    "            optimizer.step()\n",
    "\n",
    "            total_loss += loss.item()\n",
    "\n",
    "        avg_loss = total_loss / len(train_loader)\n",
    "\n",
    "        # Update progress bar with loss\n",
    "        epoch_bar.set_description(f\"Epoch {epoch+1}/{num_epochs}\")\n",
    "        epoch_bar.set_postfix(loss=avg_loss)\n",
    "\n",
    "    # -------- Validation Phase (at end of training) --------\n",
    "    model.eval()\n",
    "    y_true, y_pred = [], []\n",
    "\n",
    "    with torch.no_grad():\n",
    "        for val_X, val_y in val_loader:\n",
    "            val_X, val_y = val_X.to(device), val_y.to(device)\n",
    "            outputs = model(val_X)\n",
    "            preds = torch.argmax(outputs, dim=1)\n",
    "\n",
    "            y_true.extend(val_y.cpu().numpy())\n",
    "            y_pred.extend(preds.cpu().numpy())\n",
    "\n",
    "    cm = confusion_matrix(y_true, y_pred)\n",
    "    val_accuracy = accuracy_score(y_true, y_pred)\n",
    "\n",
    "    print(\"\\nConfusion Matrix:\\n\", cm)\n",
    "    print(\"\\nClassification Report:\\n\", classification_report(y_true, y_pred, digits=3))\n",
    "    \n",
    "    return val_accuracy, avg_loss, cm\n",
    "\n"
   ]
  },
  {
   "cell_type": "markdown",
   "id": "483ecaa5-4fee-4b46-8130-938b324ec91d",
   "metadata": {},
   "source": [
    "## Window Size Optimization"
   ]
  },
  {
   "cell_type": "code",
   "execution_count": 121,
   "id": "41dfc6f4-7e62-446b-ab1e-c5ed1ce997be",
   "metadata": {
    "tags": []
   },
   "outputs": [
    {
     "name": "stdout",
     "output_type": "stream",
     "text": [
      "Using device: cuda\n",
      "Training for Window Size: 2\n"
     ]
    },
    {
     "name": "stderr",
     "output_type": "stream",
     "text": [
      "Epoch 60/60: 100%|███████████████████████████████████████████████████████| 60/60 [05:55<00:00,  5.92s/epoch, loss=1.33]\n"
     ]
    },
    {
     "name": "stdout",
     "output_type": "stream",
     "text": [
      "\n",
      "Confusion Matrix:\n",
      " [[10  1  7  0  0  0  0  0  1  0  0]\n",
      " [ 0  0 18  0  0  0  0  0  0  2  1]\n",
      " [ 0  1 13  0  0  0  0  0  0  3  2]\n",
      " [ 0  0  0  6  2  2  2  2  1  0  0]\n",
      " [ 0  0  0 13  1  2  6  0  0  0  0]\n",
      " [ 0  0  0  2  0  3 10  1  0  0  0]\n",
      " [ 0  0  0  2  0  4 10  0  1  0  0]\n",
      " [ 1  0  0  4  1  2  7  2  5  0  0]\n",
      " [ 1  0  0  2  1  2  6  2  7  0  0]\n",
      " [ 0  2  0  0  0  0  0  0  0 13  4]\n",
      " [ 0  0  0  0  0  0  0  0  0 11  2]]\n",
      "\n",
      "Classification Report:\n",
      "               precision    recall  f1-score   support\n",
      "\n",
      "           0      0.833     0.526     0.645        19\n",
      "           1      0.000     0.000     0.000        21\n",
      "           2      0.342     0.684     0.456        19\n",
      "           3      0.207     0.400     0.273        15\n",
      "           4      0.200     0.045     0.074        22\n",
      "           5      0.200     0.188     0.194        16\n",
      "           6      0.244     0.588     0.345        17\n",
      "           7      0.286     0.091     0.138        22\n",
      "           8      0.467     0.333     0.389        21\n",
      "           9      0.448     0.684     0.542        19\n",
      "          10      0.222     0.154     0.182        13\n",
      "\n",
      "    accuracy                          0.328       204\n",
      "   macro avg      0.314     0.336     0.294       204\n",
      "weighted avg      0.317     0.328     0.291       204\n",
      "\n"
     ]
    },
    {
     "data": {
      "image/png": "[encoded data removed]",
      "text/plain": [
       "<Figure size 1000x500 with 2 Axes>"
      ]
     },
     "metadata": {},
     "output_type": "display_data"
    }
   ],
   "source": [
    "\n",
    "device = torch.device(\"cuda\" if torch.cuda.is_available() else \"cpu\")\n",
    "print(\"Using device:\", device)\n",
    "\n",
    "window_sizes = [2]\n",
    "cm_array = []\n",
    "accuracies = []\n",
    "losses = []\n",
    "\n",
    "for window_size in window_sizes:\n",
    "    print(\"Training for Window Size:\", window_size)\n",
    "\n",
    "    model = EEG_LSTMClassifier()\n",
    "    optimizer = torch.optim.Adam(model.parameters(), lr=0.001)\n",
    "    #criterion = nn.CrossEntropyLoss(reduction='none')\n",
    "    criterion = nn.CrossEntropyLoss()\n",
    "\n",
    "    \n",
    "    training_dataset = EEGWindowDataset(\"ShawnTrainingData/combined_data.csv\", \"ShawnTrainingData/training_data.csv\", sampling_rate=250, window_sec=window_size)\n",
    "    testing_dataset = EEGWindowDataset(\"ShawnTrainingData/combined_data.csv\", \"ShawnTrainingData/testing_data.csv\", sampling_rate=250, window_sec=window_size)\n",
    "\n",
    "    train_loader = DataLoader(training_dataset, batch_size=64, shuffle=True)\n",
    "    val_loader = DataLoader(testing_dataset, batch_size=64, shuffle=False)\n",
    "\n",
    "    acc, loss, cm = train_model(model, train_loader, val_loader, optimizer, criterion, num_epochs=30, device=device)\n",
    "    cm_array.append(cm)\n",
    "    accuracies.append(acc)\n",
    "    losses.append(loss)\n",
    "\n",
    "plt.figure(figsize=(10, 5))\n",
    "\n",
    "# Accuracy bar plot\n",
    "plt.subplot(1, 2, 1)\n",
    "plt.bar([str(bs) for bs in window_sizes], accuracies, color='skyblue')\n",
    "plt.title(\"Validation Accuracy vs Batch Size\")\n",
    "plt.xlabel(\"Window Size\")\n",
    "plt.ylabel(\"Accuracy\")\n",
    "plt.ylim(0, 1)\n",
    "plt.grid(True, axis='y')\n",
    "\n",
    "# Loss bar plot\n",
    "plt.subplot(1, 2, 2)\n",
    "plt.bar([str(bs) for bs in window_sizes], losses, color='salmon')\n",
    "plt.title(\"Validation Loss vs Batch Size\")\n",
    "plt.xlabel(\"Window Size\")\n",
    "plt.ylabel(\"Loss\")\n",
    "plt.grid(True, axis='y')\n",
    "\n",
    "plt.tight_layout()\n",
    "plt.show()"
   ]
  },
  {
   "cell_type": "code",
   "execution_count": 83,
   "id": "7dd31277-b9da-40ca-bfd4-e772d09ac8ac",
   "metadata": {
    "tags": []
   },
   "outputs": [],
   "source": [
    "torch.save(model.state_dict(), \"model.pth\")"
   ]
  },
  {
   "cell_type": "code",
   "execution_count": 120,
   "id": "fe4e1346-6ea2-4208-bde0-68c2bb4a816b",
   "metadata": {
    "tags": []
   },
   "outputs": [
    {
     "data": {
      "image/png": "[encoded data removed]",
      "text/plain": [
       "<Figure size 800x400 with 1 Axes>"
      ]
     },
     "metadata": {},
     "output_type": "display_data"
    }
   ],
   "source": [
    "plt.figure(figsize=(8, 4))\n",
    "plt.plot(losses, marker='o', label='Training Loss')\n",
    "plt.title(\"Training Loss Over Epochs\")\n",
    "plt.xlabel(\"Epoch\")\n",
    "plt.ylabel(\"Loss\")\n",
    "plt.grid(True)\n",
    "plt.legend()\n",
    "plt.tight_layout()\n",
    "plt.show()"
   ]
  },
  {
   "cell_type": "code",
   "execution_count": 99,
   "id": "fac52c98-6aa9-4186-bd7e-b3ca6c6219ff",
   "metadata": {
    "tags": []
   },
   "outputs": [
    {
     "name": "stdout",
     "output_type": "stream",
     "text": [
      "[[ 4  4  0  0  0  0  0  0  2  0  1]\n",
      " [ 1 15  0  0  0  0  0  0  0  2  1]\n",
      " [ 0 16  0  0  0  0  0  0  1  4  2]\n",
      " [ 0 14  0  0  0  0  0  0  5  0  0]\n",
      " [ 0 10  1  0  0  0  0  0  1  0  0]\n",
      " [ 0 18  0  0  0  0  0  0  3  0  0]\n",
      " [ 0 13  0  0  0  0  0  0  7  0  0]\n",
      " [ 0  8  1  0  0  0  0  0  8  0  0]\n",
      " [ 0  6  0  0  0  0  0  0 15  0  0]\n",
      " [ 1  2  0  0  0  0  0  0  0 12  4]\n",
      " [ 0  4  0  0  0  0  0  0  0  5  5]]\n",
      "Accuracy:  0.2602040816326531\n",
      "Loss:  2.2583115976683947\n"
     ]
    }
   ],
   "source": [
    "for i in range(len(cm_array)):\n",
    "    print(cm_array[i])\n",
    "    print(\"Accuracy: \", accuracies[i])\n",
    "    print(\"Loss: \", losses[i])"
   ]
  },
  {
   "cell_type": "markdown",
   "id": "127df8cb-6587-43ff-8b99-05842045d13e",
   "metadata": {},
   "source": [
    "## Batch Size Optimization"
   ]
  },
  {
   "cell_type": "code",
   "execution_count": 8,
   "id": "c1e5494c-d8c1-4455-895b-f1afa8479b44",
   "metadata": {
    "tags": []
   },
   "outputs": [
    {
     "name": "stdout",
     "output_type": "stream",
     "text": [
      "Training for Batch Size: 8\n"
     ]
    },
    {
     "name": "stderr",
     "output_type": "stream",
     "text": [
      "Training Epochs:  97%|███████████████████████████████████████████████████████████▉  | 29/30 [00:53<00:01,  1.81s/epoch]C:\\Users\\shawn\\AppData\\Roaming\\Python\\Python310\\site-packages\\sklearn\\metrics\\_classification.py:1334: UndefinedMetricWarning: Precision and F-score are ill-defined and being set to 0.0 in labels with no predicted samples. Use `zero_division` parameter to control this behavior.\n",
      "  _warn_prf(average, modifier, msg_start, len(result))\n",
      "C:\\Users\\shawn\\AppData\\Roaming\\Python\\Python310\\site-packages\\sklearn\\metrics\\_classification.py:1334: UndefinedMetricWarning: Precision and F-score are ill-defined and being set to 0.0 in labels with no predicted samples. Use `zero_division` parameter to control this behavior.\n",
      "  _warn_prf(average, modifier, msg_start, len(result))\n",
      "C:\\Users\\shawn\\AppData\\Roaming\\Python\\Python310\\site-packages\\sklearn\\metrics\\_classification.py:1334: UndefinedMetricWarning: Precision and F-score are ill-defined and being set to 0.0 in labels with no predicted samples. Use `zero_division` parameter to control this behavior.\n",
      "  _warn_prf(average, modifier, msg_start, len(result))\n",
      "Training Epochs: 100%|██████████████████████████████████████████████████████████████| 30/30 [00:55<00:00,  1.85s/epoch]\n"
     ]
    },
    {
     "name": "stdout",
     "output_type": "stream",
     "text": [
      "Confusion Matrix:\n",
      "[[ 4  3  1  0  0  0  0  0  1  0  2]\n",
      " [ 1 13  2  0  0  0  0  0  0  2  1]\n",
      " [ 0 13  4  0  0  0  0  0  0  4  2]\n",
      " [ 1 12  3  0  0  0  0  0  3  0  0]\n",
      " [ 0  8  4  0  0  0  0  0  0  0  0]\n",
      " [ 0 12  3  0  0  0  0  0  6  0  0]\n",
      " [ 1  9  4  0  0  0  0  0  6  0  0]\n",
      " [ 0  5  2  0  0  0  0  0 10  0  0]\n",
      " [ 0  4  2  0  0  0  0  0 15  0  0]\n",
      " [ 1  0  0  0  0  0  0  0  0 14  4]\n",
      " [ 0  1  0  0  0  0  0  0  0  6  7]]\n",
      "\n",
      "Classification Report:\n",
      "              precision    recall  f1-score   support\n",
      "\n",
      "           0      0.500     0.364     0.421        11\n",
      "           1      0.163     0.684     0.263        19\n",
      "           2      0.160     0.174     0.167        23\n",
      "           3      0.000     0.000     0.000        19\n",
      "           4      0.000     0.000     0.000        12\n",
      "           5      0.000     0.000     0.000        21\n",
      "           6      0.000     0.000     0.000        20\n",
      "           7      0.000     0.000     0.000        17\n",
      "           8      0.366     0.714     0.484        21\n",
      "           9      0.538     0.737     0.622        19\n",
      "          10      0.438     0.500     0.467        14\n",
      "\n",
      "    accuracy                          0.291       196\n",
      "   macro avg      0.197     0.288     0.220       196\n",
      "weighted avg      0.185     0.291     0.214       196\n",
      "\n",
      "Training for Batch Size: 16\n"
     ]
    },
    {
     "name": "stderr",
     "output_type": "stream",
     "text": [
      "Training Epochs:  97%|███████████████████████████████████████████████████████████▉  | 29/30 [00:49<00:01,  1.69s/epoch]C:\\Users\\shawn\\AppData\\Roaming\\Python\\Python310\\site-packages\\sklearn\\metrics\\_classification.py:1334: UndefinedMetricWarning: Precision and F-score are ill-defined and being set to 0.0 in labels with no predicted samples. Use `zero_division` parameter to control this behavior.\n",
      "  _warn_prf(average, modifier, msg_start, len(result))\n",
      "C:\\Users\\shawn\\AppData\\Roaming\\Python\\Python310\\site-packages\\sklearn\\metrics\\_classification.py:1334: UndefinedMetricWarning: Precision and F-score are ill-defined and being set to 0.0 in labels with no predicted samples. Use `zero_division` parameter to control this behavior.\n",
      "  _warn_prf(average, modifier, msg_start, len(result))\n",
      "C:\\Users\\shawn\\AppData\\Roaming\\Python\\Python310\\site-packages\\sklearn\\metrics\\_classification.py:1334: UndefinedMetricWarning: Precision and F-score are ill-defined and being set to 0.0 in labels with no predicted samples. Use `zero_division` parameter to control this behavior.\n",
      "  _warn_prf(average, modifier, msg_start, len(result))\n",
      "Training Epochs: 100%|██████████████████████████████████████████████████████████████| 30/30 [00:51<00:00,  1.71s/epoch]\n"
     ]
    },
    {
     "name": "stdout",
     "output_type": "stream",
     "text": [
      "Confusion Matrix:\n",
      "[[ 0  2  4  0  0  0  0  3  0  0  2]\n",
      " [ 0  6 10  0  0  0  0  1  0  1  1]\n",
      " [ 0  6 12  0  0  0  0  0  0  3  2]\n",
      " [ 0  2  0  0  2 15  0  0  0  0  0]\n",
      " [ 0  1  0  0  1 10  0  0  0  0  0]\n",
      " [ 0  0  0  0  3 18  0  0  0  0  0]\n",
      " [ 0  0  1  0  1 18  0  0  0  0  0]\n",
      " [ 0  0  0  0  0  9  0  8  0  0  0]\n",
      " [ 0  1  1  0  2  9  0  8  0  0  0]\n",
      " [ 0  0  0  0  0  0  0  0  0 15  4]\n",
      " [ 0  0  0  0  0  1  0  0  0  6  7]]\n",
      "\n",
      "Classification Report:\n",
      "              precision    recall  f1-score   support\n",
      "\n",
      "           0      0.000     0.000     0.000        11\n",
      "           1      0.333     0.316     0.324        19\n",
      "           2      0.429     0.522     0.471        23\n",
      "           3      0.000     0.000     0.000        19\n",
      "           4      0.111     0.083     0.095        12\n",
      "           5      0.225     0.857     0.356        21\n",
      "           6      0.000     0.000     0.000        20\n",
      "           7      0.400     0.471     0.432        17\n",
      "           8      0.000     0.000     0.000        21\n",
      "           9      0.600     0.789     0.682        19\n",
      "          10      0.438     0.500     0.467        14\n",
      "\n",
      "    accuracy                          0.342       196\n",
      "   macro avg      0.231     0.322     0.257       196\n",
      "weighted avg      0.238     0.342     0.268       196\n",
      "\n",
      "Training for Batch Size: 32\n"
     ]
    },
    {
     "name": "stderr",
     "output_type": "stream",
     "text": [
      "Training Epochs:  97%|███████████████████████████████████████████████████████████▉  | 29/30 [00:47<00:01,  1.64s/epoch]C:\\Users\\shawn\\AppData\\Roaming\\Python\\Python310\\site-packages\\sklearn\\metrics\\_classification.py:1334: UndefinedMetricWarning: Precision and F-score are ill-defined and being set to 0.0 in labels with no predicted samples. Use `zero_division` parameter to control this behavior.\n",
      "  _warn_prf(average, modifier, msg_start, len(result))\n",
      "C:\\Users\\shawn\\AppData\\Roaming\\Python\\Python310\\site-packages\\sklearn\\metrics\\_classification.py:1334: UndefinedMetricWarning: Precision and F-score are ill-defined and being set to 0.0 in labels with no predicted samples. Use `zero_division` parameter to control this behavior.\n",
      "  _warn_prf(average, modifier, msg_start, len(result))\n",
      "C:\\Users\\shawn\\AppData\\Roaming\\Python\\Python310\\site-packages\\sklearn\\metrics\\_classification.py:1334: UndefinedMetricWarning: Precision and F-score are ill-defined and being set to 0.0 in labels with no predicted samples. Use `zero_division` parameter to control this behavior.\n",
      "  _warn_prf(average, modifier, msg_start, len(result))\n",
      "Training Epochs: 100%|██████████████████████████████████████████████████████████████| 30/30 [00:49<00:00,  1.67s/epoch]\n"
     ]
    },
    {
     "name": "stdout",
     "output_type": "stream",
     "text": [
      "Confusion Matrix:\n",
      "[[ 0  0  4  2  0  0  0  3  0  1  1]\n",
      " [ 0  6 10  0  0  0  0  1  0  2  0]\n",
      " [ 0  5 11  1  0  0  0  1  0  3  2]\n",
      " [ 0  1  0 17  0  0  0  1  0  0  0]\n",
      " [ 0  2  0 10  0  0  0  0  0  0  0]\n",
      " [ 0  0  0 14  0  0  0  7  0  0  0]\n",
      " [ 0  0  0 12  0  0  0  8  0  0  0]\n",
      " [ 0  0  0  5  0  0  0 12  0  0  0]\n",
      " [ 0  0  0  6  0  0  0 15  0  0  0]\n",
      " [ 0  0  1  0  0  0  0  1  0 13  4]\n",
      " [ 0  0  0  1  0  0  0  0  0  7  6]]\n",
      "\n",
      "Classification Report:\n",
      "              precision    recall  f1-score   support\n",
      "\n",
      "           0      0.000     0.000     0.000        11\n",
      "           1      0.429     0.316     0.364        19\n",
      "           2      0.423     0.478     0.449        23\n",
      "           3      0.250     0.895     0.391        19\n",
      "           4      0.000     0.000     0.000        12\n",
      "           5      0.000     0.000     0.000        21\n",
      "           6      0.000     0.000     0.000        20\n",
      "           7      0.245     0.706     0.364        17\n",
      "           8      0.000     0.000     0.000        21\n",
      "           9      0.500     0.684     0.578        19\n",
      "          10      0.462     0.429     0.444        14\n",
      "\n",
      "    accuracy                          0.332       196\n",
      "   macro avg      0.210     0.319     0.235       196\n",
      "weighted avg      0.218     0.332     0.245       196\n",
      "\n",
      "Training for Batch Size: 64\n"
     ]
    },
    {
     "name": "stderr",
     "output_type": "stream",
     "text": [
      "Training Epochs:  97%|███████████████████████████████████████████████████████████▉  | 29/30 [00:49<00:01,  1.92s/epoch]C:\\Users\\shawn\\AppData\\Roaming\\Python\\Python310\\site-packages\\sklearn\\metrics\\_classification.py:1334: UndefinedMetricWarning: Precision and F-score are ill-defined and being set to 0.0 in labels with no predicted samples. Use `zero_division` parameter to control this behavior.\n",
      "  _warn_prf(average, modifier, msg_start, len(result))\n",
      "C:\\Users\\shawn\\AppData\\Roaming\\Python\\Python310\\site-packages\\sklearn\\metrics\\_classification.py:1334: UndefinedMetricWarning: Precision and F-score are ill-defined and being set to 0.0 in labels with no predicted samples. Use `zero_division` parameter to control this behavior.\n",
      "  _warn_prf(average, modifier, msg_start, len(result))\n",
      "C:\\Users\\shawn\\AppData\\Roaming\\Python\\Python310\\site-packages\\sklearn\\metrics\\_classification.py:1334: UndefinedMetricWarning: Precision and F-score are ill-defined and being set to 0.0 in labels with no predicted samples. Use `zero_division` parameter to control this behavior.\n",
      "  _warn_prf(average, modifier, msg_start, len(result))\n",
      "Training Epochs: 100%|██████████████████████████████████████████████████████████████| 30/30 [00:51<00:00,  1.70s/epoch]"
     ]
    },
    {
     "name": "stdout",
     "output_type": "stream",
     "text": [
      "Confusion Matrix:\n",
      "[[ 0  0  4  0  0  0  0  4  0  0  3]\n",
      " [ 0  0 16  0  0  0  0  1  0  2  0]\n",
      " [ 0  0 17  0  2  0  0  0  0  2  2]\n",
      " [ 0  0  1  0 16  0  0  2  0  0  0]\n",
      " [ 0  0  1  0  9  0  0  2  0  0  0]\n",
      " [ 0  0  0  0 15  0  0  6  0  0  0]\n",
      " [ 0  0  0  0 14  0  0  5  0  0  1]\n",
      " [ 0  0  0  0  5  0  0 12  0  0  0]\n",
      " [ 0  0  0  0  6  0  0 15  0  0  0]\n",
      " [ 0  0  3  0  0  0  0  0  0 11  5]\n",
      " [ 0  0  1  0  1  0  0  0  0  6  6]]\n",
      "\n",
      "Classification Report:\n",
      "              precision    recall  f1-score   support\n",
      "\n",
      "           0      0.000     0.000     0.000        11\n",
      "           1      0.000     0.000     0.000        19\n",
      "           2      0.395     0.739     0.515        23\n",
      "           3      0.000     0.000     0.000        19\n",
      "           4      0.132     0.750     0.225        12\n",
      "           5      0.000     0.000     0.000        21\n",
      "           6      0.000     0.000     0.000        20\n",
      "           7      0.255     0.706     0.375        17\n",
      "           8      0.000     0.000     0.000        21\n",
      "           9      0.524     0.579     0.550        19\n",
      "          10      0.353     0.429     0.387        14\n",
      "\n",
      "    accuracy                          0.281       196\n",
      "   macro avg      0.151     0.291     0.187       196\n",
      "weighted avg      0.153     0.281     0.188       196\n",
      "\n"
     ]
    },
    {
     "name": "stderr",
     "output_type": "stream",
     "text": [
      "\n"
     ]
    },
    {
     "data": {
      "image/png": "[encoded data removed]",
      "text/plain": [
       "<Figure size 1000x500 with 2 Axes>"
      ]
     },
     "metadata": {},
     "output_type": "display_data"
    }
   ],
   "source": [
    "batch_sizes = [8, 16,32,64]\n",
    "accuracies = []\n",
    "losses = []\n",
    "\n",
    "device = torch.device(\"cuda\" if torch.cuda.is_available() else \"cpu\")\n",
    "print(\"Using device:\", device)\n",
    "\n",
    "for batch_size in batch_sizes:\n",
    "    print(\"Training for Batch Size:\", batch_size)\n",
    "\n",
    "    model = EEGClassifier()\n",
    "    optimizer = torch.optim.Adam(model.parameters(), lr=0.001)\n",
    "\n",
    "    train_loader = DataLoader(training_dataset, batch_size=batch_size, shuffle=True)\n",
    "    val_loader = DataLoader(testing_dataset, batch_size=batch_size, shuffle=False)\n",
    "\n",
    "    acc, loss, cm = train_model(model, train_loader, val_loader, optimizer, criterion, num_epochs=30, device=device)\n",
    "    accuracies.append(acc)\n",
    "    losses.append(loss)\n",
    "\n",
    "plt.figure(figsize=(10, 5))\n",
    "\n",
    "# Accuracy bar plot\n",
    "plt.subplot(1, 2, 1)\n",
    "plt.bar([str(bs) for bs in batch_sizes], accuracies, color='skyblue')\n",
    "plt.title(\"Validation Accuracy vs Batch Size\")\n",
    "plt.xlabel(\"Batch Size\")\n",
    "plt.ylabel(\"Accuracy\")\n",
    "plt.ylim(0, 1)\n",
    "plt.grid(True, axis='y')\n",
    "\n",
    "# Loss bar plot\n",
    "plt.subplot(1, 2, 2)\n",
    "plt.bar([str(bs) for bs in batch_sizes], losses, color='salmon')\n",
    "plt.title(\"Validation Loss vs Batch Size\")\n",
    "plt.xlabel(\"Batch Size\")\n",
    "plt.ylabel(\"Loss\")\n",
    "plt.grid(True, axis='y')\n",
    "\n",
    "plt.tight_layout()\n",
    "plt.show()"
   ]
  },
  {
   "cell_type": "markdown",
   "id": "8ba393e4-a23b-4209-8591-34b7fdef2c7d",
   "metadata": {},
   "source": []
  }
 ],
 "metadata": {
  "kernelspec": {
   "display_name": "Python 3 (ipykernel)",
   "language": "python",
   "name": "python3"
  },
  "language_info": {
   "codemirror_mode": {
    "name": "ipython",
    "version": 3
   },
   "file_extension": ".py",
   "mimetype": "text/x-python",
   "name": "python",
   "nbconvert_exporter": "python",
   "pygments_lexer": "ipython3",
   "version": "3.10.5"
  }
 },
 "nbformat": 4,
 "nbformat_minor": 5
}
