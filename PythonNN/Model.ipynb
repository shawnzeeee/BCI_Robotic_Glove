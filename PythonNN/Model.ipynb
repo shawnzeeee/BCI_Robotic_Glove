{
 "cells": [
  {
   "cell_type": "code",
   "execution_count": 2,
   "id": "7276cea1-fcd3-4d7d-9440-faee6e994788",
   "metadata": {},
   "outputs": [],
   "source": [
    "import torch\n",
    "import torch.nn as nn\n",
    "import torch.nn.functional as F\n",
    "from torch.utils.data import DataLoader, TensorDataset"
   ]
  },
  {
   "cell_type": "markdown",
   "id": "f3ab962d-db0e-4c3d-8c02-1d2e80b2417c",
   "metadata": {},
   "source": [
    "# Model"
   ]
  },
  {
   "cell_type": "code",
   "execution_count": null,
   "id": "0c9d343f-fa78-4a25-8270-209a57ba4bc6",
   "metadata": {},
   "outputs": [],
   "source": [
    "# Define the MLP model\n",
    "class EEGClassifier(nn.Module):\n",
    "    def __init__(self):\n",
    "        super(EEGClassifier, self).__init__()\n",
    "        self.fc1 = nn.Linear(20, 32)       # Input: 20 features → Hidden: 32 neurons\n",
    "        self.fc2 = nn.Linear(32, 13)       # Hidden: 32 neurons → Output: 13 classes\n",
    "\n",
    "    def forward(self, x):\n",
    "        x = F.relu(self.fc1(x))            # Activation\n",
    "        x = F.softmax(self.fc2(x), dim=1)  # Softmax for classification\n",
    "        return x\n",
    "\n",
    "# Instantiate the model\n",
    "model = EEGClassifier()\n",
    "\n",
    "# Optimizer and loss\n",
    "optimizer = torch.optim.Adam(model.parameters(), lr=0.001)\n",
    "criterion = nn.CrossEntropyLoss()\n",
    "\n"
   ]
  }
 ],
 "metadata": {
  "kernelspec": {
   "display_name": "Python 3 (ipykernel)",
   "language": "python",
   "name": "python3"
  },
  "language_info": {
   "codemirror_mode": {
    "name": "ipython",
    "version": 3
   },
   "file_extension": ".py",
   "mimetype": "text/x-python",
   "name": "python",
   "nbconvert_exporter": "python",
   "pygments_lexer": "ipython3",
   "version": "3.11.2"
  }
 },
 "nbformat": 4,
 "nbformat_minor": 5
}
