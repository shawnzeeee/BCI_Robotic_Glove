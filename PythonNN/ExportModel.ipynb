{
 "cells": [
  {
   "cell_type": "code",
   "execution_count": 11,
   "id": "96567eb0-4f22-493d-b06d-f410fa0b2104",
   "metadata": {},
   "outputs": [
    {
     "ename": "ModuleNotFoundError",
     "evalue": "No module named 'model'",
     "output_type": "error",
     "traceback": [
      "\u001b[31m---------------------------------------------------------------------------\u001b[39m",
      "\u001b[31mModuleNotFoundError\u001b[39m                       Traceback (most recent call last)",
      "\u001b[36mCell\u001b[39m\u001b[36m \u001b[39m\u001b[32mIn[11]\u001b[39m\u001b[32m, line 8\u001b[39m\n\u001b[32m      6\u001b[39m \u001b[38;5;28;01mimport\u001b[39;00m\u001b[38;5;250m \u001b[39m\u001b[34;01monnxruntime\u001b[39;00m\u001b[38;5;250m \u001b[39m\u001b[38;5;28;01mas\u001b[39;00m\u001b[38;5;250m \u001b[39m\u001b[34;01mort\u001b[39;00m\n\u001b[32m      7\u001b[39m \u001b[38;5;28;01mimport\u001b[39;00m\u001b[38;5;250m \u001b[39m\u001b[34;01mnumpy\u001b[39;00m\u001b[38;5;250m \u001b[39m\u001b[38;5;28;01mas\u001b[39;00m\u001b[38;5;250m \u001b[39m\u001b[34;01mnp\u001b[39;00m\n\u001b[32m----> \u001b[39m\u001b[32m8\u001b[39m \u001b[38;5;28;01mfrom\u001b[39;00m\u001b[38;5;250m \u001b[39m\u001b[34;01mmodel\u001b[39;00m\u001b[38;5;250m \u001b[39m\u001b[38;5;28;01mimport\u001b[39;00m CNNBiLSTMClassifier\n",
      "\u001b[31mModuleNotFoundError\u001b[39m: No module named 'model'"
     ]
    }
   ],
   "source": [
    "import torch\n",
    "import torch.nn as nn\n",
    "import torch.nn.functional as F\n",
    "from torch.utils.data import Dataset, DataLoader, TensorDataset\n",
    "import onnx\n",
    "import onnxruntime as ort\n",
    "import numpy as np\n",
    "from model import CNNBiLSTMClassifier"
   ]
  },
  {
   "cell_type": "markdown",
   "id": "e58794c1-f6c6-420f-a748-3d3066260787",
   "metadata": {},
   "source": [
    "# Load Model"
   ]
  },
  {
   "cell_type": "code",
   "execution_count": 3,
   "id": "edc8000b-ae8d-447b-8a45-eece046be89c",
   "metadata": {},
   "outputs": [],
   "source": [
    "class CNNBiLSTMClassifier(nn.Module):\n",
    "    def __init__(self, num_classes=11):\n",
    "        super(CNNBiLSTMClassifier, self).__init__()\n",
    "\n",
    "        self.cnn = nn.Sequential(\n",
    "            nn.Conv1d(4, 32, kernel_size=5, padding=2),\n",
    "            nn.BatchNorm1d(32),\n",
    "            nn.ReLU(),\n",
    "            nn.MaxPool1d(2),\n",
    "            nn.Conv1d(32, 64, kernel_size=5, padding=2),\n",
    "            nn.BatchNorm1d(64),\n",
    "            nn.ReLU(),\n",
    "            nn.MaxPool1d(2)\n",
    "        )\n",
    "\n",
    "        self.lstm = nn.LSTM(input_size=64, hidden_size=32, batch_first=True, bidirectional=True)\n",
    "        \n",
    "        self.bn = nn.BatchNorm1d(32 * 2)  # Match hidden size\n",
    "        \n",
    "        self.classifier = nn.Sequential(\n",
    "            nn.Linear(32 * 2, 32),\n",
    "            nn.ReLU(),\n",
    "            nn.Dropout(0.3),\n",
    "            nn.Linear(32, num_classes)\n",
    "        )\n",
    "\n",
    "    def forward(self, x):\n",
    "        x = self.cnn(x)  # → (B, 64, T)\n",
    "        x = x.permute(0, 2, 1)  # (B, T, 64)\n",
    "\n",
    "        _, (hn, _) = self.lstm(x)  # hn: (2, B, 32) if bidirectional=True\n",
    "        hn = torch.cat((hn[0], hn[1]), dim=1)  # (B, 64)\n",
    "\n",
    "        hn = self.bn(hn)  # BatchNorm on full concatenated hidden state\n",
    "        return self.classifier(hn)"
   ]
  },
  {
   "cell_type": "code",
   "execution_count": 12,
   "id": "e3cd59d3-832f-45e3-a580-f284c68a1f8d",
   "metadata": {},
   "outputs": [
    {
     "data": {
      "text/plain": [
       "CNNBiLSTMClassifier(\n",
       "  (cnn): Sequential(\n",
       "    (0): Conv1d(4, 32, kernel_size=(5,), stride=(1,), padding=(2,))\n",
       "    (1): BatchNorm1d(32, eps=1e-05, momentum=0.1, affine=True, track_running_stats=True)\n",
       "    (2): ReLU()\n",
       "    (3): MaxPool1d(kernel_size=2, stride=2, padding=0, dilation=1, ceil_mode=False)\n",
       "    (4): Conv1d(32, 64, kernel_size=(5,), stride=(1,), padding=(2,))\n",
       "    (5): BatchNorm1d(64, eps=1e-05, momentum=0.1, affine=True, track_running_stats=True)\n",
       "    (6): ReLU()\n",
       "    (7): MaxPool1d(kernel_size=2, stride=2, padding=0, dilation=1, ceil_mode=False)\n",
       "  )\n",
       "  (lstm): LSTM(64, 32, batch_first=True, bidirectional=True)\n",
       "  (bn): BatchNorm1d(64, eps=1e-05, momentum=0.1, affine=True, track_running_stats=True)\n",
       "  (classifier): Sequential(\n",
       "    (0): Linear(in_features=64, out_features=32, bias=True)\n",
       "    (1): ReLU()\n",
       "    (2): Dropout(p=0.3, inplace=False)\n",
       "    (3): Linear(in_features=32, out_features=11, bias=True)\n",
       "  )\n",
       ")"
      ]
     },
     "execution_count": 12,
     "metadata": {},
     "output_type": "execute_result"
    }
   ],
   "source": [
    "model_path = \"models/CNNBiLSTM_0.0.1/model.pth\"\n",
    "torch_model = CNNBiLSTMClassifier()\n",
    "torch_model.load_state_dict(torch.load(model_path, map_location=\"cpu\"))\n",
    "torch_model.eval()"
   ]
  },
  {
   "cell_type": "code",
   "execution_count": 9,
   "id": "e5f7fb9d-b137-4c45-8a03-027c84290057",
   "metadata": {},
   "outputs": [],
   "source": [
    "dummy_input = torch.randn(1, 4, 500)\n",
    "torch.onnx.export(\n",
    "    model,\n",
    "    dummy_input,\n",
    "    \"cnn_bilstm.onnx\",\n",
    "    input_names=[\"input\"],\n",
    "    output_names=[\"output\"],\n",
    "    dynamic_axes={\"input\": {2: \"sequence\"}}  # Make time axis dynamic\n",
    ")"
   ]
  },
  {
   "cell_type": "code",
   "execution_count": 13,
   "id": "72a5c3a2-1c70-4b98-9679-2dfb57a9dc5d",
   "metadata": {},
   "outputs": [],
   "source": [
    "# ----- Prepare input -----\n",
    "input_tensor = torch.randn(1, 4, 500)\n",
    "input_numpy = input_tensor.numpy()\n",
    "\n",
    "# ----- Run PyTorch inference -----\n",
    "with torch.no_grad():\n",
    "    torch_output = torch_model(input_tensor).numpy()\n",
    "\n",
    "# ----- Load ONNX model -----\n",
    "onnx_model = onnx.load(\"cnn_bilstm.onnx\")\n",
    "onnx.checker.check_model(onnx_model)  # Optional: validate ONNX model\n",
    "\n",
    "# ----- Run ONNX Runtime inference -----\n",
    "ort_session = ort.InferenceSession(\"cnn_bilstm.onnx\")\n",
    "input_name = ort_session.get_inputs()[0].name\n",
    "onnx_output = ort_session.run(None, {input_name: input_numpy})[0]"
   ]
  },
  {
   "cell_type": "code",
   "execution_count": 14,
   "id": "8fc4f0f3-d21e-406e-a7c6-465f6723429f",
   "metadata": {},
   "outputs": [
    {
     "name": "stdout",
     "output_type": "stream",
     "text": [
      "Torch output: [[-15.183826    8.439772    6.972706   -5.57649   -13.262698  -11.6480665\n",
      "  -11.400796  -26.552748  -20.910198  -16.212461   -8.480648 ]]\n",
      "ONNX output: [[-15.183824    8.439774    6.972702   -5.5764937 -13.262694  -11.648068\n",
      "  -11.400796  -26.55274   -20.910196  -16.212458   -8.480652 ]]\n",
      "✅ Outputs match! ONNX model is accurate.\n"
     ]
    }
   ],
   "source": [
    "# ----- Compare outputs -----\n",
    "print(\"Torch output:\", torch_output)\n",
    "print(\"ONNX output:\", onnx_output)\n",
    "\n",
    "# ----- Check closeness -----\n",
    "if np.allclose(torch_output, onnx_output, atol=1e-5):\n",
    "    print(\"✅ Outputs match! ONNX model is accurate.\")\n",
    "else:\n",
    "    print(\"❌ Outputs differ! Something might be wrong.\")"
   ]
  },
  {
   "cell_type": "code",
   "execution_count": 16,
   "id": "7deb5648-7972-4501-9503-c91699199f33",
   "metadata": {},
   "outputs": [
    {
     "name": "stdout",
     "output_type": "stream",
     "text": [
      "bn.weight: FLOAT\n",
      "bn.bias: FLOAT\n",
      "bn.running_mean: FLOAT\n",
      "bn.running_var: FLOAT\n",
      "classifier.0.weight: FLOAT\n",
      "classifier.0.bias: FLOAT\n",
      "classifier.3.weight: FLOAT\n",
      "classifier.3.bias: FLOAT\n",
      "onnx::Conv_190: FLOAT\n",
      "onnx::Conv_191: FLOAT\n",
      "onnx::Conv_193: FLOAT\n",
      "onnx::Conv_194: FLOAT\n",
      "onnx::LSTM_237: FLOAT\n",
      "onnx::LSTM_238: FLOAT\n",
      "onnx::LSTM_239: FLOAT\n"
     ]
    }
   ],
   "source": [
    "for i in onnx_model.graph.initializer:\n",
    "    print(f\"{i.name}: {onnx.TensorProto.DataType.Name(i.data_type)}\")"
   ]
  },
  {
   "cell_type": "code",
   "execution_count": null,
   "id": "e2bc3204-0220-4b7f-9e87-ae55798412fc",
   "metadata": {},
   "outputs": [],
   "source": []
  }
 ],
 "metadata": {
  "kernelspec": {
   "display_name": "Python 3 (ipykernel)",
   "language": "python",
   "name": "python3"
  },
  "language_info": {
   "codemirror_mode": {
    "name": "ipython",
    "version": 3
   },
   "file_extension": ".py",
   "mimetype": "text/x-python",
   "name": "python",
   "nbconvert_exporter": "python",
   "pygments_lexer": "ipython3",
   "version": "3.11.2"
  }
 },
 "nbformat": 4,
 "nbformat_minor": 5
}
